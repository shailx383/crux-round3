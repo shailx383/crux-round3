{
 "cells": [
  {
   "attachments": {},
   "cell_type": "markdown",
   "metadata": {},
   "source": [
    "## RANDOM FORESTS using only NumPy and Pandas"
   ]
  },
  {
   "cell_type": "code",
   "execution_count": 27,
   "metadata": {},
   "outputs": [],
   "source": [
    "import numpy as np\n",
    "import pandas as pd"
   ]
  },
  {
   "cell_type": "code",
   "execution_count": 28,
   "metadata": {},
   "outputs": [],
   "source": [
    "df = pd.read_csv(\"genre_df.csv\", sep = '\\t');\n",
    "df.drop([\"Unnamed: 0\"], inplace = True, axis = 1)"
   ]
  },
  {
   "cell_type": "code",
   "execution_count": 29,
   "metadata": {},
   "outputs": [
    {
     "name": "stdout",
     "output_type": "stream",
     "text": [
      "<class 'pandas.core.frame.DataFrame'>\n",
      "RangeIndex: 1339 entries, 0 to 1338\n",
      "Data columns (total 16 columns):\n",
      " #   Column            Non-Null Count  Dtype  \n",
      "---  ------            --------------  -----  \n",
      " 0   danceability      1339 non-null   float64\n",
      " 1   energy            1339 non-null   float64\n",
      " 2   key               1339 non-null   int64  \n",
      " 3   loudness          1339 non-null   float64\n",
      " 4   mode              1339 non-null   int64  \n",
      " 5   speechiness       1339 non-null   float64\n",
      " 6   acousticness      1339 non-null   float64\n",
      " 7   instrumentalness  1339 non-null   float64\n",
      " 8   liveness          1339 non-null   float64\n",
      " 9   valence           1339 non-null   float64\n",
      " 10  tempo             1339 non-null   float64\n",
      " 11  duration_ms       1339 non-null   int64  \n",
      " 12  time_signature    1339 non-null   int64  \n",
      " 13  track_name        1339 non-null   object \n",
      " 14  artist            1339 non-null   object \n",
      " 15  genre             1339 non-null   object \n",
      "dtypes: float64(9), int64(4), object(3)\n",
      "memory usage: 167.5+ KB\n"
     ]
    }
   ],
   "source": [
    "df.info()"
   ]
  },
  {
   "cell_type": "code",
   "execution_count": 30,
   "metadata": {},
   "outputs": [],
   "source": [
    "df.drop([\"artist\", \"track_name\", \"liveness\"], axis = 1, inplace= True)"
   ]
  },
  {
   "cell_type": "code",
   "execution_count": 31,
   "metadata": {},
   "outputs": [],
   "source": [
    "key_df = pd.get_dummies(df['key'], prefix='key')\n",
    "df = pd.concat([df, key_df], axis = 1)\n",
    "df.drop(['key', 'key_11'], axis = 1, inplace = True)"
   ]
  },
  {
   "cell_type": "code",
   "execution_count": 33,
   "metadata": {},
   "outputs": [],
   "source": [
    "time_df = pd.get_dummies(df['time_signature'], prefix='time_signature')\n",
    "df = pd.concat([df, time_df], axis = 1)\n",
    "df.drop(['time_signature', 'time_signature_1'], axis = 1, inplace = True)"
   ]
  },
  {
   "cell_type": "code",
   "execution_count": 34,
   "metadata": {},
   "outputs": [],
   "source": [
    "genre_df = pd.get_dummies(df['genre'])\n",
    "df = pd.concat([df, genre_df], axis = 1)\n",
    "df.drop(['genre'], axis = 1, inplace = True)"
   ]
  },
  {
   "cell_type": "code",
   "execution_count": 35,
   "metadata": {},
   "outputs": [
    {
     "name": "stdout",
     "output_type": "stream",
     "text": [
      "<class 'pandas.core.frame.DataFrame'>\n",
      "RangeIndex: 1339 entries, 0 to 1338\n",
      "Data columns (total 29 columns):\n",
      " #   Column            Non-Null Count  Dtype  \n",
      "---  ------            --------------  -----  \n",
      " 0   danceability      1339 non-null   float64\n",
      " 1   energy            1339 non-null   float64\n",
      " 2   loudness          1339 non-null   float64\n",
      " 3   mode              1339 non-null   int64  \n",
      " 4   speechiness       1339 non-null   float64\n",
      " 5   acousticness      1339 non-null   float64\n",
      " 6   instrumentalness  1339 non-null   float64\n",
      " 7   valence           1339 non-null   float64\n",
      " 8   tempo             1339 non-null   float64\n",
      " 9   duration_ms       1339 non-null   int64  \n",
      " 10  key_0             1339 non-null   uint8  \n",
      " 11  key_1             1339 non-null   uint8  \n",
      " 12  key_2             1339 non-null   uint8  \n",
      " 13  key_3             1339 non-null   uint8  \n",
      " 14  key_4             1339 non-null   uint8  \n",
      " 15  key_5             1339 non-null   uint8  \n",
      " 16  key_6             1339 non-null   uint8  \n",
      " 17  key_7             1339 non-null   uint8  \n",
      " 18  key_8             1339 non-null   uint8  \n",
      " 19  key_9             1339 non-null   uint8  \n",
      " 20  key_10            1339 non-null   uint8  \n",
      " 21  time_signature_3  1339 non-null   uint8  \n",
      " 22  time_signature_4  1339 non-null   uint8  \n",
      " 23  time_signature_5  1339 non-null   uint8  \n",
      " 24  CLASSICAL         1339 non-null   uint8  \n",
      " 25  LOFI              1339 non-null   uint8  \n",
      " 26  POP               1339 non-null   uint8  \n",
      " 27  RAP               1339 non-null   uint8  \n",
      " 28  ROCK              1339 non-null   uint8  \n",
      "dtypes: float64(8), int64(2), uint8(19)\n",
      "memory usage: 129.6 KB\n"
     ]
    }
   ],
   "source": [
    "df.info()"
   ]
  },
  {
   "cell_type": "code",
   "execution_count": null,
   "metadata": {},
   "outputs": [],
   "source": []
  }
 ],
 "metadata": {
  "kernelspec": {
   "display_name": "base",
   "language": "python",
   "name": "python3"
  },
  "language_info": {
   "codemirror_mode": {
    "name": "ipython",
    "version": 3
   },
   "file_extension": ".py",
   "mimetype": "text/x-python",
   "name": "python",
   "nbconvert_exporter": "python",
   "pygments_lexer": "ipython3",
   "version": "3.9.12"
  },
  "orig_nbformat": 4,
  "vscode": {
   "interpreter": {
    "hash": "c3b33d48af627876ac544114dd0fbe5a6124b6236eace591dad2ce23808c5c16"
   }
  }
 },
 "nbformat": 4,
 "nbformat_minor": 2
}
