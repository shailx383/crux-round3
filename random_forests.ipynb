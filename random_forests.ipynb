{
 "cells": [
  {
   "attachments": {},
   "cell_type": "markdown",
   "metadata": {},
   "source": [
    "## RANDOM FORESTS using only NumPy and Pandas"
   ]
  },
  {
   "cell_type": "code",
   "execution_count": 1,
   "metadata": {},
   "outputs": [],
   "source": [
    "import numpy as np\n",
    "import pandas as pd"
   ]
  },
  {
   "cell_type": "code",
   "execution_count": 2,
   "metadata": {},
   "outputs": [],
   "source": [
    "df = pd.read_csv(\"genre_df.csv\", sep = '\\t');\n",
    "df.drop([\"Unnamed: 0\"], inplace = True, axis = 1)"
   ]
  },
  {
   "cell_type": "code",
   "execution_count": 3,
   "metadata": {},
   "outputs": [
    {
     "name": "stdout",
     "output_type": "stream",
     "text": [
      "<class 'pandas.core.frame.DataFrame'>\n",
      "RangeIndex: 1339 entries, 0 to 1338\n",
      "Data columns (total 16 columns):\n",
      " #   Column            Non-Null Count  Dtype  \n",
      "---  ------            --------------  -----  \n",
      " 0   danceability      1339 non-null   float64\n",
      " 1   energy            1339 non-null   float64\n",
      " 2   key               1339 non-null   int64  \n",
      " 3   loudness          1339 non-null   float64\n",
      " 4   mode              1339 non-null   int64  \n",
      " 5   speechiness       1339 non-null   float64\n",
      " 6   acousticness      1339 non-null   float64\n",
      " 7   instrumentalness  1339 non-null   float64\n",
      " 8   liveness          1339 non-null   float64\n",
      " 9   valence           1339 non-null   float64\n",
      " 10  tempo             1339 non-null   float64\n",
      " 11  duration_ms       1339 non-null   int64  \n",
      " 12  time_signature    1339 non-null   int64  \n",
      " 13  track_name        1339 non-null   object \n",
      " 14  artist            1339 non-null   object \n",
      " 15  genre             1339 non-null   object \n",
      "dtypes: float64(9), int64(4), object(3)\n",
      "memory usage: 167.5+ KB\n"
     ]
    }
   ],
   "source": [
    "df.info()"
   ]
  },
  {
   "cell_type": "code",
   "execution_count": 4,
   "metadata": {},
   "outputs": [],
   "source": [
    "df.drop([\"artist\", \"track_name\", \"liveness\"], axis = 1, inplace= True)"
   ]
  },
  {
   "cell_type": "code",
   "execution_count": 5,
   "metadata": {},
   "outputs": [],
   "source": [
    "key_df = pd.get_dummies(df['key'], prefix='key')\n",
    "df = pd.concat([df, key_df], axis = 1)\n",
    "df.drop(['key', 'key_11'], axis = 1, inplace = True)"
   ]
  },
  {
   "cell_type": "code",
   "execution_count": 6,
   "metadata": {},
   "outputs": [],
   "source": [
    "time_df = pd.get_dummies(df['time_signature'], prefix='time_signature')\n",
    "df = pd.concat([df, time_df], axis = 1)\n",
    "df.drop(['time_signature', 'time_signature_1'], axis = 1, inplace = True)"
   ]
  },
  {
   "cell_type": "code",
   "execution_count": 7,
   "metadata": {},
   "outputs": [],
   "source": [
    "genre_dict = {'POP': 1, 'RAP': 2, 'CLASSICAL': 3, 'ROCK': 4, 'LOFI': 5}"
   ]
  },
  {
   "cell_type": "code",
   "execution_count": 8,
   "metadata": {},
   "outputs": [
    {
     "name": "stdout",
     "output_type": "stream",
     "text": [
      "<class 'pandas.core.frame.DataFrame'>\n",
      "RangeIndex: 1339 entries, 0 to 1338\n",
      "Data columns (total 25 columns):\n",
      " #   Column            Non-Null Count  Dtype  \n",
      "---  ------            --------------  -----  \n",
      " 0   danceability      1339 non-null   float64\n",
      " 1   energy            1339 non-null   float64\n",
      " 2   loudness          1339 non-null   float64\n",
      " 3   mode              1339 non-null   int64  \n",
      " 4   speechiness       1339 non-null   float64\n",
      " 5   acousticness      1339 non-null   float64\n",
      " 6   instrumentalness  1339 non-null   float64\n",
      " 7   valence           1339 non-null   float64\n",
      " 8   tempo             1339 non-null   float64\n",
      " 9   duration_ms       1339 non-null   int64  \n",
      " 10  genre             1339 non-null   object \n",
      " 11  key_0             1339 non-null   uint8  \n",
      " 12  key_1             1339 non-null   uint8  \n",
      " 13  key_2             1339 non-null   uint8  \n",
      " 14  key_3             1339 non-null   uint8  \n",
      " 15  key_4             1339 non-null   uint8  \n",
      " 16  key_5             1339 non-null   uint8  \n",
      " 17  key_6             1339 non-null   uint8  \n",
      " 18  key_7             1339 non-null   uint8  \n",
      " 19  key_8             1339 non-null   uint8  \n",
      " 20  key_9             1339 non-null   uint8  \n",
      " 21  key_10            1339 non-null   uint8  \n",
      " 22  time_signature_3  1339 non-null   uint8  \n",
      " 23  time_signature_4  1339 non-null   uint8  \n",
      " 24  time_signature_5  1339 non-null   uint8  \n",
      "dtypes: float64(8), int64(2), object(1), uint8(14)\n",
      "memory usage: 133.5+ KB\n"
     ]
    }
   ],
   "source": [
    "df.info()"
   ]
  },
  {
   "cell_type": "code",
   "execution_count": 9,
   "metadata": {},
   "outputs": [],
   "source": [
    "from sklearn.model_selection import train_test_split\n",
    "\n",
    "X = df.drop(['genre'], axis = 1)\n",
    "y = df['genre']\n",
    "X_train, X_test, y_train, y_test = train_test_split(X, y, test_size=0.33, random_state=42)"
   ]
  },
  {
   "cell_type": "code",
   "execution_count": 10,
   "metadata": {},
   "outputs": [],
   "source": [
    "from models import DecisionTree\n",
    "\n",
    "tree = DecisionTree(max_depth=3, min_rows_split=3)"
   ]
  },
  {
   "cell_type": "code",
   "execution_count": 11,
   "metadata": {},
   "outputs": [],
   "source": [
    "tree.fit(X_train, y_train)"
   ]
  },
  {
   "cell_type": "code",
   "execution_count": 13,
   "metadata": {},
   "outputs": [
    {
     "ename": "TypeError",
     "evalue": "final_label() missing 1 required positional argument: 'col'",
     "output_type": "error",
     "traceback": [
      "\u001b[1;31m---------------------------------------------------------------------------\u001b[0m",
      "\u001b[1;31mTypeError\u001b[0m                                 Traceback (most recent call last)",
      "\u001b[1;32mc:\\Users\\shail\\OneDrive\\Desktop\\cod\\crux-round3\\random_forests.ipynb Cell 13\u001b[0m in \u001b[0;36m<cell line: 1>\u001b[1;34m()\u001b[0m\n\u001b[1;32m----> <a href='vscode-notebook-cell:/c%3A/Users/shail/OneDrive/Desktop/cod/crux-round3/random_forests.ipynb#X40sZmlsZQ%3D%3D?line=0'>1</a>\u001b[0m tree\u001b[39m.\u001b[39;49mfinal_label()\n",
      "\u001b[1;31mTypeError\u001b[0m: final_label() missing 1 required positional argument: 'col'"
     ]
    }
   ],
   "source": []
  },
  {
   "cell_type": "code",
   "execution_count": null,
   "metadata": {},
   "outputs": [],
   "source": []
  }
 ],
 "metadata": {
  "kernelspec": {
   "display_name": "base",
   "language": "python",
   "name": "python3"
  },
  "language_info": {
   "codemirror_mode": {
    "name": "ipython",
    "version": 3
   },
   "file_extension": ".py",
   "mimetype": "text/x-python",
   "name": "python",
   "nbconvert_exporter": "python",
   "pygments_lexer": "ipython3",
   "version": "3.9.12"
  },
  "orig_nbformat": 4,
  "vscode": {
   "interpreter": {
    "hash": "c3b33d48af627876ac544114dd0fbe5a6124b6236eace591dad2ce23808c5c16"
   }
  }
 },
 "nbformat": 4,
 "nbformat_minor": 2
}
