{
 "cells": [
  {
   "attachments": {},
   "cell_type": "markdown",
   "metadata": {},
   "source": [
    "## RANDOM FORESTS using only NumPy and Pandas"
   ]
  },
  {
   "cell_type": "code",
   "execution_count": 1,
   "metadata": {},
   "outputs": [],
   "source": [
    "import numpy as np\n",
    "import pandas as pd"
   ]
  },
  {
   "cell_type": "code",
   "execution_count": 2,
   "metadata": {},
   "outputs": [],
   "source": [
    "df = pd.read_csv(\"genre_df.csv\", sep = '\\t');\n",
    "df.drop([\"Unnamed: 0\"], inplace = True, axis = 1)"
   ]
  },
  {
   "cell_type": "code",
   "execution_count": 3,
   "metadata": {},
   "outputs": [
    {
     "name": "stdout",
     "output_type": "stream",
     "text": [
      "<class 'pandas.core.frame.DataFrame'>\n",
      "RangeIndex: 1339 entries, 0 to 1338\n",
      "Data columns (total 16 columns):\n",
      " #   Column            Non-Null Count  Dtype  \n",
      "---  ------            --------------  -----  \n",
      " 0   danceability      1339 non-null   float64\n",
      " 1   energy            1339 non-null   float64\n",
      " 2   key               1339 non-null   int64  \n",
      " 3   loudness          1339 non-null   float64\n",
      " 4   mode              1339 non-null   int64  \n",
      " 5   speechiness       1339 non-null   float64\n",
      " 6   acousticness      1339 non-null   float64\n",
      " 7   instrumentalness  1339 non-null   float64\n",
      " 8   liveness          1339 non-null   float64\n",
      " 9   valence           1339 non-null   float64\n",
      " 10  tempo             1339 non-null   float64\n",
      " 11  duration_ms       1339 non-null   int64  \n",
      " 12  time_signature    1339 non-null   int64  \n",
      " 13  track_name        1339 non-null   object \n",
      " 14  artist            1339 non-null   object \n",
      " 15  genre             1339 non-null   object \n",
      "dtypes: float64(9), int64(4), object(3)\n",
      "memory usage: 167.5+ KB\n"
     ]
    }
   ],
   "source": [
    "df.info()"
   ]
  },
  {
   "cell_type": "code",
   "execution_count": 4,
   "metadata": {},
   "outputs": [],
   "source": [
    "df.drop([\"artist\", \"track_name\", \"liveness\"], axis = 1, inplace= True)"
   ]
  },
  {
   "cell_type": "code",
   "execution_count": 5,
   "metadata": {},
   "outputs": [],
   "source": [
    "key_df = pd.get_dummies(df['key'], prefix='key')\n",
    "df = pd.concat([df, key_df], axis = 1)\n",
    "df.drop(['key', 'key_11'], axis = 1, inplace = True)"
   ]
  },
  {
   "cell_type": "code",
   "execution_count": 6,
   "metadata": {},
   "outputs": [],
   "source": [
    "time_df = pd.get_dummies(df['time_signature'], prefix='time_signature')\n",
    "df = pd.concat([df, time_df], axis = 1)\n",
    "df.drop(['time_signature', 'time_signature_1'], axis = 1, inplace = True)"
   ]
  },
  {
   "cell_type": "code",
   "execution_count": 7,
   "metadata": {},
   "outputs": [],
   "source": [
    "genre_dict = {'POP': 1, 'RAP': 2, 'CLASSICAL': 3, 'ROCK': 4, 'LOFI': 5}"
   ]
  },
  {
   "cell_type": "code",
   "execution_count": 8,
   "metadata": {},
   "outputs": [
    {
     "name": "stdout",
     "output_type": "stream",
     "text": [
      "<class 'pandas.core.frame.DataFrame'>\n",
      "RangeIndex: 1339 entries, 0 to 1338\n",
      "Data columns (total 25 columns):\n",
      " #   Column            Non-Null Count  Dtype  \n",
      "---  ------            --------------  -----  \n",
      " 0   danceability      1339 non-null   float64\n",
      " 1   energy            1339 non-null   float64\n",
      " 2   loudness          1339 non-null   float64\n",
      " 3   mode              1339 non-null   int64  \n",
      " 4   speechiness       1339 non-null   float64\n",
      " 5   acousticness      1339 non-null   float64\n",
      " 6   instrumentalness  1339 non-null   float64\n",
      " 7   valence           1339 non-null   float64\n",
      " 8   tempo             1339 non-null   float64\n",
      " 9   duration_ms       1339 non-null   int64  \n",
      " 10  genre             1339 non-null   object \n",
      " 11  key_0             1339 non-null   uint8  \n",
      " 12  key_1             1339 non-null   uint8  \n",
      " 13  key_2             1339 non-null   uint8  \n",
      " 14  key_3             1339 non-null   uint8  \n",
      " 15  key_4             1339 non-null   uint8  \n",
      " 16  key_5             1339 non-null   uint8  \n",
      " 17  key_6             1339 non-null   uint8  \n",
      " 18  key_7             1339 non-null   uint8  \n",
      " 19  key_8             1339 non-null   uint8  \n",
      " 20  key_9             1339 non-null   uint8  \n",
      " 21  key_10            1339 non-null   uint8  \n",
      " 22  time_signature_3  1339 non-null   uint8  \n",
      " 23  time_signature_4  1339 non-null   uint8  \n",
      " 24  time_signature_5  1339 non-null   uint8  \n",
      "dtypes: float64(8), int64(2), object(1), uint8(14)\n",
      "memory usage: 133.5+ KB\n"
     ]
    }
   ],
   "source": [
    "df.info()"
   ]
  },
  {
   "cell_type": "code",
   "execution_count": 9,
   "metadata": {},
   "outputs": [],
   "source": [
    "from sklearn.metrics import classification_report"
   ]
  },
  {
   "cell_type": "code",
   "execution_count": 10,
   "metadata": {},
   "outputs": [],
   "source": [
    "from models import RandomForest"
   ]
  },
  {
   "cell_type": "code",
   "execution_count": 11,
   "metadata": {},
   "outputs": [],
   "source": [
    "forest = RandomForest(n_estimators=10)"
   ]
  },
  {
   "cell_type": "code",
   "execution_count": 12,
   "metadata": {},
   "outputs": [],
   "source": [
    "from sklearn.model_selection import train_test_split\n",
    "\n",
    "X = df.drop(['genre'], axis = 1)\n",
    "y = df['genre']\n",
    "X_train, X_test, y_train, y_test = train_test_split(X, y, test_size=0.25, random_state=42)"
   ]
  },
  {
   "cell_type": "code",
   "execution_count": null,
   "metadata": {},
   "outputs": [],
   "source": [
    "preds = forest.fit(X_train, y_train)"
   ]
  },
  {
   "cell_type": "code",
   "execution_count": 17,
   "metadata": {},
   "outputs": [],
   "source": [
    "preds = forest.predict(X_test)"
   ]
  },
  {
   "cell_type": "code",
   "execution_count": 20,
   "metadata": {},
   "outputs": [
    {
     "name": "stdout",
     "output_type": "stream",
     "text": [
      "              precision    recall  f1-score   support\n",
      "\n",
      "   CLASSICAL       0.97      0.96      0.96        67\n",
      "        LOFI       0.70      0.93      0.80        54\n",
      "         POP       0.00      0.00      0.00        61\n",
      "         RAP       0.76      0.78      0.77        83\n",
      "        ROCK       0.55      0.89      0.68        70\n",
      "\n",
      "    accuracy                           0.72       335\n",
      "   macro avg       0.60      0.71      0.64       335\n",
      "weighted avg       0.61      0.72      0.65       335\n",
      "\n"
     ]
    },
    {
     "name": "stderr",
     "output_type": "stream",
     "text": [
      "C:\\Users\\shail\\anaconda3\\Lib\\site-packages\\sklearn\\metrics\\_classification.py:1318: UndefinedMetricWarning: Precision and F-score are ill-defined and being set to 0.0 in labels with no predicted samples. Use `zero_division` parameter to control this behavior.\n",
      "  _warn_prf(average, modifier, msg_start, len(result))\n",
      "C:\\Users\\shail\\anaconda3\\Lib\\site-packages\\sklearn\\metrics\\_classification.py:1318: UndefinedMetricWarning: Precision and F-score are ill-defined and being set to 0.0 in labels with no predicted samples. Use `zero_division` parameter to control this behavior.\n",
      "  _warn_prf(average, modifier, msg_start, len(result))\n",
      "C:\\Users\\shail\\anaconda3\\Lib\\site-packages\\sklearn\\metrics\\_classification.py:1318: UndefinedMetricWarning: Precision and F-score are ill-defined and being set to 0.0 in labels with no predicted samples. Use `zero_division` parameter to control this behavior.\n",
      "  _warn_prf(average, modifier, msg_start, len(result))\n"
     ]
    }
   ],
   "source": [
    "from sklearn.metrics import classification_report\n",
    "\n",
    "print(classification_report(y_test, preds))"
   ]
  }
 ],
 "metadata": {
  "kernelspec": {
   "display_name": "base",
   "language": "python",
   "name": "python3"
  },
  "language_info": {
   "codemirror_mode": {
    "name": "ipython",
    "version": 3
   },
   "file_extension": ".py",
   "mimetype": "text/x-python",
   "name": "python",
   "nbconvert_exporter": "python",
   "pygments_lexer": "ipython3",
   "version": "3.9.12"
  },
  "orig_nbformat": 4,
  "vscode": {
   "interpreter": {
    "hash": "c3b33d48af627876ac544114dd0fbe5a6124b6236eace591dad2ce23808c5c16"
   }
  }
 },
 "nbformat": 4,
 "nbformat_minor": 2
}
