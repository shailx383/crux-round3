{
 "cells": [
  {
   "cell_type": "code",
   "execution_count": 1,
   "metadata": {},
   "outputs": [],
   "source": [
    "import numpy as np\n",
    "import pandas as pd"
   ]
  },
  {
   "cell_type": "code",
   "execution_count": 2,
   "metadata": {},
   "outputs": [],
   "source": [
    "df = pd.read_csv('cleaned_online_sex_work.csv')"
   ]
  },
  {
   "cell_type": "code",
   "execution_count": 3,
   "metadata": {},
   "outputs": [
    {
     "data": {
      "text/html": [
       "<div>\n",
       "<style scoped>\n",
       "    .dataframe tbody tr th:only-of-type {\n",
       "        vertical-align: middle;\n",
       "    }\n",
       "\n",
       "    .dataframe tbody tr th {\n",
       "        vertical-align: top;\n",
       "    }\n",
       "\n",
       "    .dataframe thead th {\n",
       "        text-align: right;\n",
       "    }\n",
       "</style>\n",
       "<table border=\"1\" class=\"dataframe\">\n",
       "  <thead>\n",
       "    <tr style=\"text-align: right;\">\n",
       "      <th></th>\n",
       "      <th>User_ID</th>\n",
       "      <th>Female</th>\n",
       "      <th>Age</th>\n",
       "      <th>Location</th>\n",
       "      <th>Verification</th>\n",
       "      <th>Heterosexual</th>\n",
       "      <th>Homosexual</th>\n",
       "      <th>bicurious</th>\n",
       "      <th>bisexual</th>\n",
       "      <th>Dominant</th>\n",
       "      <th>...</th>\n",
       "      <th>Member_since_month</th>\n",
       "      <th>Member_since_day</th>\n",
       "      <th>Number_of_Comments_in_public_forum</th>\n",
       "      <th>Time_spent_chating_H:M</th>\n",
       "      <th>Number_of_advertisments_posted</th>\n",
       "      <th>Number_of_offline_meetings_attended</th>\n",
       "      <th>Number of Friends</th>\n",
       "      <th>Profile_pictures</th>\n",
       "      <th>Friends_ID_list</th>\n",
       "      <th>Risk</th>\n",
       "    </tr>\n",
       "  </thead>\n",
       "  <tbody>\n",
       "    <tr>\n",
       "      <th>0</th>\n",
       "      <td>10386</td>\n",
       "      <td>False</td>\n",
       "      <td>34.6</td>\n",
       "      <td>A</td>\n",
       "      <td>False</td>\n",
       "      <td>0</td>\n",
       "      <td>1</td>\n",
       "      <td>0</td>\n",
       "      <td>0</td>\n",
       "      <td>0</td>\n",
       "      <td>...</td>\n",
       "      <td>9</td>\n",
       "      <td>17</td>\n",
       "      <td>32</td>\n",
       "      <td>2</td>\n",
       "      <td>0</td>\n",
       "      <td>0</td>\n",
       "      <td>1</td>\n",
       "      <td>0</td>\n",
       "      <td>18260</td>\n",
       "      <td>0.0</td>\n",
       "    </tr>\n",
       "    <tr>\n",
       "      <th>1</th>\n",
       "      <td>14</td>\n",
       "      <td>False</td>\n",
       "      <td>32.2</td>\n",
       "      <td>J</td>\n",
       "      <td>False</td>\n",
       "      <td>1</td>\n",
       "      <td>0</td>\n",
       "      <td>0</td>\n",
       "      <td>0</td>\n",
       "      <td>1</td>\n",
       "      <td>...</td>\n",
       "      <td>11</td>\n",
       "      <td>1</td>\n",
       "      <td>710</td>\n",
       "      <td>225</td>\n",
       "      <td>9</td>\n",
       "      <td>0</td>\n",
       "      <td>7</td>\n",
       "      <td>0</td>\n",
       "      <td>11778,32024,43768,23969,27318,45884,31277</td>\n",
       "      <td>0.0</td>\n",
       "    </tr>\n",
       "    <tr>\n",
       "      <th>2</th>\n",
       "      <td>16721</td>\n",
       "      <td>False</td>\n",
       "      <td>33.6</td>\n",
       "      <td>K</td>\n",
       "      <td>False</td>\n",
       "      <td>1</td>\n",
       "      <td>0</td>\n",
       "      <td>0</td>\n",
       "      <td>0</td>\n",
       "      <td>1</td>\n",
       "      <td>...</td>\n",
       "      <td>4</td>\n",
       "      <td>1</td>\n",
       "      <td>25</td>\n",
       "      <td>135</td>\n",
       "      <td>1</td>\n",
       "      <td>1</td>\n",
       "      <td>3</td>\n",
       "      <td>45</td>\n",
       "      <td>19805,21721,19802</td>\n",
       "      <td>0.0</td>\n",
       "    </tr>\n",
       "    <tr>\n",
       "      <th>3</th>\n",
       "      <td>16957</td>\n",
       "      <td>False</td>\n",
       "      <td>34.0</td>\n",
       "      <td>H</td>\n",
       "      <td>False</td>\n",
       "      <td>1</td>\n",
       "      <td>0</td>\n",
       "      <td>0</td>\n",
       "      <td>0</td>\n",
       "      <td>1</td>\n",
       "      <td>...</td>\n",
       "      <td>4</td>\n",
       "      <td>8</td>\n",
       "      <td>107</td>\n",
       "      <td>21562</td>\n",
       "      <td>1</td>\n",
       "      <td>0</td>\n",
       "      <td>12</td>\n",
       "      <td>1</td>\n",
       "      <td>40847,38183,9507,42259,5807,28118,24848,37170,...</td>\n",
       "      <td>0.0</td>\n",
       "    </tr>\n",
       "    <tr>\n",
       "      <th>4</th>\n",
       "      <td>17125</td>\n",
       "      <td>False</td>\n",
       "      <td>39.5</td>\n",
       "      <td>B</td>\n",
       "      <td>False</td>\n",
       "      <td>1</td>\n",
       "      <td>0</td>\n",
       "      <td>0</td>\n",
       "      <td>0</td>\n",
       "      <td>1</td>\n",
       "      <td>...</td>\n",
       "      <td>4</td>\n",
       "      <td>14</td>\n",
       "      <td>600</td>\n",
       "      <td>21</td>\n",
       "      <td>0</td>\n",
       "      <td>6</td>\n",
       "      <td>35</td>\n",
       "      <td>8</td>\n",
       "      <td>1320,35739,34231,19097,20197,18069,12330,43342...</td>\n",
       "      <td>0.0</td>\n",
       "    </tr>\n",
       "  </tbody>\n",
       "</table>\n",
       "<p>5 rows × 30 columns</p>\n",
       "</div>"
      ],
      "text/plain": [
       "   User_ID  Female   Age Location  Verification  Heterosexual  Homosexual  \\\n",
       "0    10386   False  34.6        A         False             0           1   \n",
       "1       14   False  32.2        J         False             1           0   \n",
       "2    16721   False  33.6        K         False             1           0   \n",
       "3    16957   False  34.0        H         False             1           0   \n",
       "4    17125   False  39.5        B         False             1           0   \n",
       "\n",
       "   bicurious  bisexual  Dominant  ...  Member_since_month  Member_since_day  \\\n",
       "0          0         0         0  ...                   9                17   \n",
       "1          0         0         1  ...                  11                 1   \n",
       "2          0         0         1  ...                   4                 1   \n",
       "3          0         0         1  ...                   4                 8   \n",
       "4          0         0         1  ...                   4                14   \n",
       "\n",
       "   Number_of_Comments_in_public_forum  Time_spent_chating_H:M  \\\n",
       "0                                  32                       2   \n",
       "1                                 710                     225   \n",
       "2                                  25                     135   \n",
       "3                                 107                   21562   \n",
       "4                                 600                      21   \n",
       "\n",
       "   Number_of_advertisments_posted  Number_of_offline_meetings_attended  \\\n",
       "0                               0                                    0   \n",
       "1                               9                                    0   \n",
       "2                               1                                    1   \n",
       "3                               1                                    0   \n",
       "4                               0                                    6   \n",
       "\n",
       "   Number of Friends  Profile_pictures  \\\n",
       "0                  1                 0   \n",
       "1                  7                 0   \n",
       "2                  3                45   \n",
       "3                 12                 1   \n",
       "4                 35                 8   \n",
       "\n",
       "                                     Friends_ID_list  Risk  \n",
       "0                                              18260   0.0  \n",
       "1          11778,32024,43768,23969,27318,45884,31277   0.0  \n",
       "2                                  19805,21721,19802   0.0  \n",
       "3  40847,38183,9507,42259,5807,28118,24848,37170,...   0.0  \n",
       "4  1320,35739,34231,19097,20197,18069,12330,43342...   0.0  \n",
       "\n",
       "[5 rows x 30 columns]"
      ]
     },
     "execution_count": 3,
     "metadata": {},
     "output_type": "execute_result"
    }
   ],
   "source": [
    "df.head()"
   ]
  },
  {
   "cell_type": "code",
   "execution_count": 4,
   "metadata": {},
   "outputs": [
    {
     "name": "stdout",
     "output_type": "stream",
     "text": [
      "<class 'pandas.core.frame.DataFrame'>\n",
      "RangeIndex: 28831 entries, 0 to 28830\n",
      "Data columns (total 30 columns):\n",
      " #   Column                               Non-Null Count  Dtype  \n",
      "---  ------                               --------------  -----  \n",
      " 0   User_ID                              28831 non-null  int64  \n",
      " 1   Female                               28831 non-null  bool   \n",
      " 2   Age                                  28831 non-null  float64\n",
      " 3   Location                             28831 non-null  object \n",
      " 4   Verification                         28831 non-null  bool   \n",
      " 5   Heterosexual                         28831 non-null  int64  \n",
      " 6   Homosexual                           28831 non-null  int64  \n",
      " 7   bicurious                            28831 non-null  int64  \n",
      " 8   bisexual                             28831 non-null  int64  \n",
      " 9   Dominant                             28831 non-null  int64  \n",
      " 10  Submisive                            28831 non-null  int64  \n",
      " 11  Switch                               28831 non-null  int64  \n",
      " 12  Men                                  28831 non-null  int64  \n",
      " 13  Men_and_Women                        28831 non-null  int64  \n",
      " 14  Nobody                               28831 non-null  int64  \n",
      " 15  Nobody_but_maybe                     28831 non-null  int64  \n",
      " 16  Women                                28831 non-null  int64  \n",
      " 17  Points_Rank                          28831 non-null  int64  \n",
      " 18  Last_login                           28831 non-null  int64  \n",
      " 19  Member_since_year                    28831 non-null  int64  \n",
      " 20  Member_since_month                   28831 non-null  int64  \n",
      " 21  Member_since_day                     28831 non-null  int64  \n",
      " 22  Number_of_Comments_in_public_forum   28831 non-null  int64  \n",
      " 23  Time_spent_chating_H:M               28831 non-null  int64  \n",
      " 24  Number_of_advertisments_posted       28831 non-null  int64  \n",
      " 25  Number_of_offline_meetings_attended  28831 non-null  int64  \n",
      " 26  Number of Friends                    28831 non-null  int64  \n",
      " 27  Profile_pictures                     28831 non-null  int64  \n",
      " 28  Friends_ID_list                      3313 non-null   object \n",
      " 29  Risk                                 90 non-null     float64\n",
      "dtypes: bool(2), float64(2), int64(24), object(2)\n",
      "memory usage: 6.2+ MB\n"
     ]
    }
   ],
   "source": [
    "df.info()"
   ]
  },
  {
   "cell_type": "code",
   "execution_count": 5,
   "metadata": {},
   "outputs": [
    {
     "data": {
      "text/plain": [
       "User_ID                                    0\n",
       "Female                                     0\n",
       "Age                                        0\n",
       "Location                                   0\n",
       "Verification                               0\n",
       "Heterosexual                               0\n",
       "Homosexual                                 0\n",
       "bicurious                                  0\n",
       "bisexual                                   0\n",
       "Dominant                                   0\n",
       "Submisive                                  0\n",
       "Switch                                     0\n",
       "Men                                        0\n",
       "Men_and_Women                              0\n",
       "Nobody                                     0\n",
       "Nobody_but_maybe                           0\n",
       "Women                                      0\n",
       "Points_Rank                                0\n",
       "Last_login                                 0\n",
       "Member_since_year                          0\n",
       "Member_since_month                         0\n",
       "Member_since_day                           0\n",
       "Number_of_Comments_in_public_forum         0\n",
       "Time_spent_chating_H:M                     0\n",
       "Number_of_advertisments_posted             0\n",
       "Number_of_offline_meetings_attended        0\n",
       "Number of Friends                          0\n",
       "Profile_pictures                           0\n",
       "Friends_ID_list                        25518\n",
       "Risk                                   28741\n",
       "dtype: int64"
      ]
     },
     "execution_count": 5,
     "metadata": {},
     "output_type": "execute_result"
    }
   ],
   "source": [
    "df.isna().sum()"
   ]
  },
  {
   "cell_type": "code",
   "execution_count": 6,
   "metadata": {},
   "outputs": [],
   "source": [
    "df.drop('User_ID', axis=1, inplace=True)"
   ]
  },
  {
   "cell_type": "code",
   "execution_count": 7,
   "metadata": {},
   "outputs": [
    {
     "data": {
      "text/plain": [
       "array(['18260', '11778,32024,43768,23969,27318,45884,31277',\n",
       "       '19805,21721,19802', ..., nan, nan, nan], dtype=object)"
      ]
     },
     "execution_count": 7,
     "metadata": {},
     "output_type": "execute_result"
    }
   ],
   "source": [
    "df['Friends_ID_list'].values"
   ]
  },
  {
   "cell_type": "code",
   "execution_count": 19,
   "metadata": {},
   "outputs": [],
   "source": [
    "def transform_id_list(x):\n",
    "    if (isinstance(x, str)):\n",
    "        return len(x.split(','))\n",
    "    else:\n",
    "        return 0;"
   ]
  },
  {
   "cell_type": "code",
   "execution_count": 21,
   "metadata": {},
   "outputs": [],
   "source": [
    "df['Friends'] = df['Friends_ID_list'].apply(lambda x: transform_id_list(x))\n",
    "df = df.drop('Friends_ID_list', axis = 1)"
   ]
  },
  {
   "cell_type": "code",
   "execution_count": 22,
   "metadata": {},
   "outputs": [
    {
     "data": {
      "text/plain": [
       "0      25518\n",
       "1       1662\n",
       "2        598\n",
       "3        313\n",
       "4        164\n",
       "5        128\n",
       "6         74\n",
       "7         52\n",
       "9         45\n",
       "8         44\n",
       "11        32\n",
       "12        22\n",
       "13        21\n",
       "17        20\n",
       "10        15\n",
       "18        11\n",
       "14         9\n",
       "25         8\n",
       "15         8\n",
       "16         7\n",
       "20         7\n",
       "21         6\n",
       "23         6\n",
       "19         6\n",
       "30         5\n",
       "22         4\n",
       "26         4\n",
       "31         4\n",
       "32         4\n",
       "24         4\n",
       "29         3\n",
       "27         3\n",
       "33         3\n",
       "37         2\n",
       "35         2\n",
       "44         2\n",
       "34         2\n",
       "39         1\n",
       "65         1\n",
       "46         1\n",
       "41         1\n",
       "50         1\n",
       "98         1\n",
       "28         1\n",
       "143        1\n",
       "51         1\n",
       "92         1\n",
       "70         1\n",
       "38         1\n",
       "49         1\n",
       "Name: Friends, dtype: int64"
      ]
     },
     "execution_count": 22,
     "metadata": {},
     "output_type": "execute_result"
    }
   ],
   "source": [
    "df['Friends'].value_counts()"
   ]
  },
  {
   "cell_type": "code",
   "execution_count": 25,
   "metadata": {},
   "outputs": [],
   "source": [
    "df['Female'] = df['Female'].map({False: 0, True:1})\n",
    "df['Verification'] = df['Verification'].map({False: 0, True:1})"
   ]
  },
  {
   "cell_type": "code",
   "execution_count": 26,
   "metadata": {},
   "outputs": [
    {
     "name": "stdout",
     "output_type": "stream",
     "text": [
      "<class 'pandas.core.frame.DataFrame'>\n",
      "RangeIndex: 28831 entries, 0 to 28830\n",
      "Data columns (total 29 columns):\n",
      " #   Column                               Non-Null Count  Dtype  \n",
      "---  ------                               --------------  -----  \n",
      " 0   Female                               28831 non-null  int64  \n",
      " 1   Age                                  28831 non-null  float64\n",
      " 2   Location                             28831 non-null  object \n",
      " 3   Verification                         28831 non-null  int64  \n",
      " 4   Heterosexual                         28831 non-null  int64  \n",
      " 5   Homosexual                           28831 non-null  int64  \n",
      " 6   bicurious                            28831 non-null  int64  \n",
      " 7   bisexual                             28831 non-null  int64  \n",
      " 8   Dominant                             28831 non-null  int64  \n",
      " 9   Submisive                            28831 non-null  int64  \n",
      " 10  Switch                               28831 non-null  int64  \n",
      " 11  Men                                  28831 non-null  int64  \n",
      " 12  Men_and_Women                        28831 non-null  int64  \n",
      " 13  Nobody                               28831 non-null  int64  \n",
      " 14  Nobody_but_maybe                     28831 non-null  int64  \n",
      " 15  Women                                28831 non-null  int64  \n",
      " 16  Points_Rank                          28831 non-null  int64  \n",
      " 17  Last_login                           28831 non-null  int64  \n",
      " 18  Member_since_year                    28831 non-null  int64  \n",
      " 19  Member_since_month                   28831 non-null  int64  \n",
      " 20  Member_since_day                     28831 non-null  int64  \n",
      " 21  Number_of_Comments_in_public_forum   28831 non-null  int64  \n",
      " 22  Time_spent_chating_H:M               28831 non-null  int64  \n",
      " 23  Number_of_advertisments_posted       28831 non-null  int64  \n",
      " 24  Number_of_offline_meetings_attended  28831 non-null  int64  \n",
      " 25  Number of Friends                    28831 non-null  int64  \n",
      " 26  Profile_pictures                     28831 non-null  int64  \n",
      " 27  Risk                                 90 non-null     float64\n",
      " 28  Friends                              28831 non-null  int64  \n",
      "dtypes: float64(2), int64(26), object(1)\n",
      "memory usage: 6.4+ MB\n"
     ]
    }
   ],
   "source": [
    "df.info()"
   ]
  },
  {
   "cell_type": "code",
   "execution_count": 27,
   "metadata": {},
   "outputs": [
    {
     "data": {
      "text/plain": [
       "A                     10945\n",
       "B                      3572\n",
       "G                      2211\n",
       "L                      2210\n",
       "M                      1261\n",
       "K                      1209\n",
       "C                      1176\n",
       "H                      1167\n",
       "E                       951\n",
       "O                       892\n",
       "J                       849\n",
       "F                       822\n",
       "N                       623\n",
       "S                       484\n",
       "D                       455\n",
       "A kraj                    2\n",
       "Jihomoravsk_ý kraj        1\n",
       "South Moravian            1\n",
       "Name: Location, dtype: int64"
      ]
     },
     "execution_count": 27,
     "metadata": {},
     "output_type": "execute_result"
    }
   ],
   "source": [
    "df['Location'].value_counts()"
   ]
  },
  {
   "cell_type": "code",
   "execution_count": null,
   "metadata": {},
   "outputs": [],
   "source": []
  }
 ],
 "metadata": {
  "kernelspec": {
   "display_name": "base",
   "language": "python",
   "name": "python3"
  },
  "language_info": {
   "codemirror_mode": {
    "name": "ipython",
    "version": 3
   },
   "file_extension": ".py",
   "mimetype": "text/x-python",
   "name": "python",
   "nbconvert_exporter": "python",
   "pygments_lexer": "ipython3",
   "version": "3.9.12"
  },
  "orig_nbformat": 4,
  "vscode": {
   "interpreter": {
    "hash": "c3b33d48af627876ac544114dd0fbe5a6124b6236eace591dad2ce23808c5c16"
   }
  }
 },
 "nbformat": 4,
 "nbformat_minor": 2
}
