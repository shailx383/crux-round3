{
 "cells": [
  {
   "attachments": {},
   "cell_type": "markdown",
   "metadata": {},
   "source": [
    "## Creating Naive Bayes Classifier using only NumPy and Pandas"
   ]
  },
  {
   "cell_type": "code",
   "execution_count": 15,
   "metadata": {},
   "outputs": [],
   "source": [
    "import numpy as np\n",
    "import pandas as pd"
   ]
  },
  {
   "cell_type": "code",
   "execution_count": 16,
   "metadata": {},
   "outputs": [],
   "source": [
    "def filter_col(df):\n",
    "    _df = pd.read_csv(df)\n",
    "    return _df.drop(\"Unnamed: 0\", axis = 1)"
   ]
  },
  {
   "cell_type": "code",
   "execution_count": 17,
   "metadata": {},
   "outputs": [],
   "source": [
    "def add_genre(df, genre):\n",
    "    df['genre'] = genre\n",
    "    return df"
   ]
  },
  {
   "cell_type": "code",
   "execution_count": 18,
   "metadata": {},
   "outputs": [],
   "source": [
    "lyrics_df = pd.concat([\n",
    "    add_genre(pd.read_csv(\"lyrics_datasets\\ArianaGrande.csv\"), 'pop'),\n",
    "    add_genre(filter_col(\"lyrics_datasets\\CardiB.csv\"), 'rap'),\n",
    "    add_genre(filter_col(\"lyrics_datasets\\EdSheeran.csv\"), 'pop'),\n",
    "    add_genre(filter_col(\"lyrics_datasets\\Eminem.csv\"), 'rap'),\n",
    "    add_genre(filter_col(r\"lyrics_datasets\\NickiMinaj.csv\"), 'rap'),\n",
    "    add_genre(filter_col(\"lyrics_datasets\\TaylorSwift.csv\"), 'pop'),\n",
    "], axis = 0)"
   ]
  },
  {
   "cell_type": "code",
   "execution_count": 19,
   "metadata": {},
   "outputs": [],
   "source": [
    "lyrics_df.drop(['Artist', 'Title', 'Date', 'Year', 'Album'], axis = 1, inplace=True)"
   ]
  },
  {
   "cell_type": "code",
   "execution_count": null,
   "metadata": {},
   "outputs": [],
   "source": []
  },
  {
   "cell_type": "code",
   "execution_count": 20,
   "metadata": {},
   "outputs": [
    {
     "data": {
      "text/html": [
       "<div>\n",
       "<style scoped>\n",
       "    .dataframe tbody tr th:only-of-type {\n",
       "        vertical-align: middle;\n",
       "    }\n",
       "\n",
       "    .dataframe tbody tr th {\n",
       "        vertical-align: top;\n",
       "    }\n",
       "\n",
       "    .dataframe thead th {\n",
       "        text-align: right;\n",
       "    }\n",
       "</style>\n",
       "<table border=\"1\" class=\"dataframe\">\n",
       "  <thead>\n",
       "    <tr style=\"text-align: right;\">\n",
       "      <th></th>\n",
       "      <th>Lyric</th>\n",
       "      <th>genre</th>\n",
       "    </tr>\n",
       "  </thead>\n",
       "  <tbody>\n",
       "    <tr>\n",
       "      <th>0</th>\n",
       "      <td>thought i'd end up with sean but he wasn't a m...</td>\n",
       "      <td>pop</td>\n",
       "    </tr>\n",
       "    <tr>\n",
       "      <th>1</th>\n",
       "      <td>yeah breakfast at tiffany's and bottles of bub...</td>\n",
       "      <td>pop</td>\n",
       "    </tr>\n",
       "    <tr>\n",
       "      <th>2</th>\n",
       "      <td>you you love it how i move you you love it how...</td>\n",
       "      <td>pop</td>\n",
       "    </tr>\n",
       "    <tr>\n",
       "      <th>3</th>\n",
       "      <td>ariana grande  nicki minaj i've been here all ...</td>\n",
       "      <td>pop</td>\n",
       "    </tr>\n",
       "    <tr>\n",
       "      <th>4</th>\n",
       "      <td>right now i'm in a state of mind i wanna be in...</td>\n",
       "      <td>pop</td>\n",
       "    </tr>\n",
       "  </tbody>\n",
       "</table>\n",
       "</div>"
      ],
      "text/plain": [
       "                                               Lyric genre\n",
       "0  thought i'd end up with sean but he wasn't a m...   pop\n",
       "1  yeah breakfast at tiffany's and bottles of bub...   pop\n",
       "2  you you love it how i move you you love it how...   pop\n",
       "3  ariana grande  nicki minaj i've been here all ...   pop\n",
       "4  right now i'm in a state of mind i wanna be in...   pop"
      ]
     },
     "execution_count": 20,
     "metadata": {},
     "output_type": "execute_result"
    }
   ],
   "source": [
    "lyrics_df.head()"
   ]
  },
  {
   "cell_type": "code",
   "execution_count": 40,
   "metadata": {},
   "outputs": [],
   "source": [
    "from sklearn.model_selection import train_test_split\n",
    "\n",
    "X = lyrics_df['Lyric']\n",
    "y = lyrics_df['genre']\n",
    "\n",
    "X_train, X_test, y_train, y_test = train_test_split(X, y, test_size=0.2, random_state=42)"
   ]
  },
  {
   "cell_type": "code",
   "execution_count": 25,
   "metadata": {},
   "outputs": [],
   "source": [
    "\n",
    "from nltk.corpus import stopwords\n",
    "import string\n"
   ]
  },
  {
   "cell_type": "code",
   "execution_count": 26,
   "metadata": {},
   "outputs": [],
   "source": [
    "def clean(lyric):\n",
    "    nopunc = ''.join([char for char in lyric if char not in string.punctuation])\n",
    "    return [word for word in nopunc.split() if word.lower() not in stopwords.words('english')]"
   ]
  },
  {
   "cell_type": "code",
   "execution_count": 29,
   "metadata": {},
   "outputs": [],
   "source": [
    "lyrics_df.to_csv('lyrics.csv', sep=',')"
   ]
  },
  {
   "cell_type": "code",
   "execution_count": 30,
   "metadata": {},
   "outputs": [
    {
     "data": {
      "text/plain": [
       "29713"
      ]
     },
     "execution_count": 30,
     "metadata": {},
     "output_type": "execute_result"
    }
   ],
   "source": [
    "len(bagofwords_transformer.vocabulary_)"
   ]
  },
  {
   "cell_type": "code",
   "execution_count": 31,
   "metadata": {},
   "outputs": [
    {
     "name": "stdout",
     "output_type": "stream",
     "text": [
      "if you take too long to hit me back i can't promise you how ill react but all i can say is at least i'll wait for you lately i've been on a roller coaster tryna get a hold of my emotions but all that i know is i need you close  pre ima scream and shout for what i love passionate but i don't give no fucks i admit that i'm a lil' messed up but i can hide it when i'm all dressed up i'm obsessive and i love too hard good at overthinking with my heart how you even think it got this far this far   and i can be needy way too damn needy i can be needy tell me how good it feels to be needed i can be needy so hard to please me i know it feels so good to be needed   sorry if i'm up and down a lot yeah sorry that i think i'm not enough and sorry if i say sorry way too much you can go ahead and call me selfish selfish but after all this damage i cant help it help it but what you can trust is i need your touch  pre ima scream and shout for what i love passionate but i don't give no fucks i admit that im a lil' messed up but i can hide it when i'm all dressed up i'm obsessive and i love too hard good at overthinking with my heart how you even think it got this far this far   and i can be needy way too damn needy i can be needy tell me how good it feels to be needed i can be needy so hard to please me i know it feels so good to be needed\n"
     ]
    }
   ],
   "source": [
    "lyric = lyrics_df['Lyric'][10].values[0]\n",
    "print(lyric)"
   ]
  },
  {
   "cell_type": "code",
   "execution_count": 32,
   "metadata": {},
   "outputs": [
    {
     "name": "stdout",
     "output_type": "stream",
     "text": [
      "  (0, 481)\t2\n",
      "  (0, 630)\t1\n",
      "  (0, 1762)\t1\n",
      "  (0, 3844)\t1\n",
      "  (0, 3932)\t2\n",
      "  (0, 4851)\t1\n",
      "  (0, 4911)\t1\n",
      "  (0, 6074)\t1\n",
      "  (0, 6087)\t2\n",
      "  (0, 7223)\t2\n",
      "  (0, 7425)\t2\n",
      "  (0, 8062)\t1\n",
      "  (0, 8154)\t1\n",
      "  (0, 8371)\t2\n",
      "  (0, 8784)\t4\n",
      "  (0, 8915)\t4\n",
      "  (0, 9772)\t2\n",
      "  (0, 10111)\t1\n",
      "  (0, 10235)\t2\n",
      "  (0, 10326)\t1\n",
      "  (0, 10391)\t6\n",
      "  (0, 10435)\t2\n",
      "  (0, 11082)\t4\n",
      "  (0, 11250)\t2\n",
      "  (0, 11350)\t2\n",
      "  :\t:\n",
      "  (0, 16616)\t2\n",
      "  (0, 16618)\t4\n",
      "  (0, 16625)\t8\n",
      "  (0, 17168)\t2\n",
      "  (0, 17761)\t2\n",
      "  (0, 18048)\t2\n",
      "  (0, 18737)\t2\n",
      "  (0, 19146)\t2\n",
      "  (0, 19373)\t1\n",
      "  (0, 20030)\t1\n",
      "  (0, 20906)\t1\n",
      "  (0, 21436)\t2\n",
      "  (0, 21595)\t2\n",
      "  (0, 21782)\t2\n",
      "  (0, 22249)\t2\n",
      "  (0, 23159)\t4\n",
      "  (0, 24603)\t1\n",
      "  (0, 24860)\t2\n",
      "  (0, 25081)\t3\n",
      "  (0, 25558)\t1\n",
      "  (0, 25900)\t1\n",
      "  (0, 25915)\t1\n",
      "  (0, 27128)\t1\n",
      "  (0, 27290)\t3\n",
      "  (0, 28124)\t1\n",
      "(1, 29713)\n"
     ]
    }
   ],
   "source": [
    "transformed_lyric = bagofwords_transformer.transform([lyric])\n",
    "print(transformed_lyric)\n",
    "print(transformed_lyric.shape)"
   ]
  },
  {
   "cell_type": "code",
   "execution_count": 35,
   "metadata": {},
   "outputs": [
    {
     "name": "stdout",
     "output_type": "stream",
     "text": [
      "needy\n"
     ]
    }
   ],
   "source": [
    "print(bagofwords_transformer.get_feature_names()[16625])"
   ]
  },
  {
   "cell_type": "code",
   "execution_count": 36,
   "metadata": {},
   "outputs": [],
   "source": [
    "lyrics_bagofwords = bagofwords_transformer.transform(lyrics_df['Lyric'])"
   ]
  },
  {
   "cell_type": "code",
   "execution_count": 39,
   "metadata": {},
   "outputs": [],
   "source": [
    "from sklearn.feature_extraction.text import TfidfVectorizer"
   ]
  },
  {
   "cell_type": "code",
   "execution_count": 42,
   "metadata": {},
   "outputs": [
    {
     "data": {
      "text/plain": [
       "pop    0.540581\n",
       "rap    0.459419\n",
       "Name: genre, dtype: float64"
      ]
     },
     "execution_count": 42,
     "metadata": {},
     "output_type": "execute_result"
    }
   ],
   "source": [
    "lyrics_df['genre'].value_counts(normalize=True)"
   ]
  },
  {
   "cell_type": "code",
   "execution_count": null,
   "metadata": {},
   "outputs": [],
   "source": []
  }
 ],
 "metadata": {
  "kernelspec": {
   "display_name": "base",
   "language": "python",
   "name": "python3"
  },
  "language_info": {
   "codemirror_mode": {
    "name": "ipython",
    "version": 3
   },
   "file_extension": ".py",
   "mimetype": "text/x-python",
   "name": "python",
   "nbconvert_exporter": "python",
   "pygments_lexer": "ipython3",
   "version": "3.9.12"
  },
  "orig_nbformat": 4,
  "vscode": {
   "interpreter": {
    "hash": "c3b33d48af627876ac544114dd0fbe5a6124b6236eace591dad2ce23808c5c16"
   }
  }
 },
 "nbformat": 4,
 "nbformat_minor": 2
}
